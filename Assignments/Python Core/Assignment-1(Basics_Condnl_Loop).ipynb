{
 "cells": [
  {
   "cell_type": "code",
   "execution_count": 8,
   "source": [
    "#Q-1 Write a program which will find all such numbers which are divisible by 7 but are not a multiple of 5, between 2000 and 3200 (both included). \r\n",
    "# The numbers obtained should be printed in comma-separated sequence on a single line.\r\n",
    "number_list = []\r\n",
    "for i in range(2000, 3201):\r\n",
    "    if i%7 == 0 and i%5 != 0:\r\n",
    "        number_list.append(i)\r\n",
    "print(*number_list, sep=',')"
   ],
   "outputs": [
    {
     "output_type": "stream",
     "name": "stdout",
     "text": [
      "2002,2009,2016,2023,2037,2044,2051,2058,2072,2079,2086,2093,2107,2114,2121,2128,2142,2149,2156,2163,2177,2184,2191,2198,2212,2219,2226,2233,2247,2254,2261,2268,2282,2289,2296,2303,2317,2324,2331,2338,2352,2359,2366,2373,2387,2394,2401,2408,2422,2429,2436,2443,2457,2464,2471,2478,2492,2499,2506,2513,2527,2534,2541,2548,2562,2569,2576,2583,2597,2604,2611,2618,2632,2639,2646,2653,2667,2674,2681,2688,2702,2709,2716,2723,2737,2744,2751,2758,2772,2779,2786,2793,2807,2814,2821,2828,2842,2849,2856,2863,2877,2884,2891,2898,2912,2919,2926,2933,2947,2954,2961,2968,2982,2989,2996,3003,3017,3024,3031,3038,3052,3059,3066,3073,3087,3094,3101,3108,3122,3129,3136,3143,3157,3164,3171,3178,3192,3199\n"
     ]
    }
   ],
   "metadata": {}
  },
  {
   "cell_type": "code",
   "execution_count": 24,
   "source": [
    "#Q-2 Write a Python program to accept the user's first and last name \r\n",
    "# and then getting them printed in the the reverse order with a space between first name and last name.\r\n",
    "first_name = input(\"Please enter your first name: \")\r\n",
    "last_name = input(\"Please enter your last name: \")\r\n",
    "print(\"Hello \"+last_name+\" \"+first_name)"
   ],
   "outputs": [
    {
     "output_type": "stream",
     "name": "stdout",
     "text": [
      "Hello  \n"
     ]
    }
   ],
   "metadata": {}
  },
  {
   "cell_type": "code",
   "execution_count": 19,
   "source": [
    "#Write a Python program to find the volume of a sphere with diameter 12 cm.\r\n",
    "#Formula: V=4/3 * π * r 3\r\n",
    "import numpy as np\r\n",
    "def sphere_volume(diameter):\r\n",
    "    radius = diameter/2\r\n",
    "    return (4/3)*np.pi*np.power(radius,3)\r\n",
    "sphere_volume(12)"
   ],
   "outputs": [
    {
     "output_type": "execute_result",
     "data": {
      "text/plain": [
       "904.7786842338603"
      ]
     },
     "metadata": {},
     "execution_count": 19
    }
   ],
   "metadata": {}
  }
 ],
 "metadata": {
  "orig_nbformat": 4,
  "language_info": {
   "name": "python",
   "version": "3.8.5",
   "mimetype": "text/x-python",
   "codemirror_mode": {
    "name": "ipython",
    "version": 3
   },
   "pygments_lexer": "ipython3",
   "nbconvert_exporter": "python",
   "file_extension": ".py"
  },
  "kernelspec": {
   "name": "python3",
   "display_name": "Python 3.8.5 64-bit ('base': conda)"
  },
  "interpreter": {
   "hash": "5a83d6e59df17be05f5db6921ac24882d403a8df2ce70299fe428afae01fc807"
  }
 },
 "nbformat": 4,
 "nbformat_minor": 2
}