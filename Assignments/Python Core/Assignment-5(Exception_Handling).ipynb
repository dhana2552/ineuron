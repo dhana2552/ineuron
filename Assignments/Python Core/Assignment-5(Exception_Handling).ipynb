{
 "cells": [
  {
   "cell_type": "code",
   "execution_count": 9,
   "source": [
    "#1. Write a function to compute 5/0 and use try/except to catch the exceptions.\r\n",
    "def divisibles(numerator, denominator):\r\n",
    "    try:\r\n",
    "        return numerator/denominator\r\n",
    "    except ZeroDivisionError:\r\n",
    "        return \"ZeroDivisionError\"\r\n",
    "    else:\r\n",
    "        return \"Successful division\"\r\n",
    "divisibles(5,0)"
   ],
   "outputs": [
    {
     "output_type": "execute_result",
     "data": {
      "text/plain": [
       "'ZeroDivisionError'"
      ]
     },
     "metadata": {},
     "execution_count": 9
    }
   ],
   "metadata": {}
  },
  {
   "cell_type": "code",
   "execution_count": 19,
   "source": [
    "# 2. Implement a Python program to generate all sentences where subject is in [\"Americans\", \"Indians\"] and \r\n",
    "# verb is in [\"Play\", \"watch\"] and the object is in [\"Baseball\",\"cricket\"].\r\n",
    "\r\n",
    "# Hint: Subject,Verb and Object should be declared in the program as shown below.\r\n",
    "\r\n",
    "subjects=[\"Americans \",\"Indians\"]\r\n",
    "verbs=[\"play\",\"watch\"]\r\n",
    "objects=[\"Baseball\",\"Cricket\"]\r\n",
    "\r\n",
    "# Output should come as below:\r\n",
    "\r\n",
    "# Americans play Baseball.\r\n",
    "# Americans play Cricket.\r\n",
    "# Americans watch Baseball.\r\n",
    "# Americans watch Cricket.\r\n",
    "# Indians play Baseball.\r\n",
    "# Indians play Cricket.\r\n",
    "# Indians watch Baseball.\r\n",
    "# Indians watch Cricket.\r\n",
    "\r\n",
    "from itertools import product\r\n",
    "def combinations(sub, verb, obj):\r\n",
    "    result = list(product(sub, verb, obj))\r\n",
    "    new_list = []\r\n",
    "    for sentence in result:\r\n",
    "        new_list.append(' '.join(sentence))\r\n",
    "    return new_list\r\n",
    "combinations(subjects, verbs, objects)"
   ],
   "outputs": [
    {
     "output_type": "execute_result",
     "data": {
      "text/plain": [
       "['Americans  play Baseball',\n",
       " 'Americans  play Cricket',\n",
       " 'Americans  watch Baseball',\n",
       " 'Americans  watch Cricket',\n",
       " 'Indians play Baseball',\n",
       " 'Indians play Cricket',\n",
       " 'Indians watch Baseball',\n",
       " 'Indians watch Cricket']"
      ]
     },
     "metadata": {},
     "execution_count": 19
    }
   ],
   "metadata": {}
  }
 ],
 "metadata": {
  "orig_nbformat": 4,
  "language_info": {
   "name": "python",
   "version": "3.8.5",
   "mimetype": "text/x-python",
   "codemirror_mode": {
    "name": "ipython",
    "version": 3
   },
   "pygments_lexer": "ipython3",
   "nbconvert_exporter": "python",
   "file_extension": ".py"
  },
  "kernelspec": {
   "name": "python3",
   "display_name": "Python 3.8.5 64-bit ('base': conda)"
  },
  "interpreter": {
   "hash": "5a83d6e59df17be05f5db6921ac24882d403a8df2ce70299fe428afae01fc807"
  }
 },
 "nbformat": 4,
 "nbformat_minor": 2
}