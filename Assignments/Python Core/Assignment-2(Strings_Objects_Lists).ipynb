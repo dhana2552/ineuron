{
 "cells": [
  {
   "cell_type": "markdown",
   "source": [
    "#Q-1 Create the below pattern using nested for loop in Python.\r\n",
    "*\r\n",
    "* *\r\n",
    "* * *\r\n",
    "* * * *\r\n",
    "* * * * *\r\n",
    "* * * *\r\n",
    "* * *\r\n",
    "* *\r\n",
    "*"
   ],
   "metadata": {}
  },
  {
   "cell_type": "code",
   "execution_count": 8,
   "source": [
    "#Solution -1\r\n",
    "n=5\r\n",
    "#For first set of patterns - Increment\r\n",
    "for i in range(0, n):\r\n",
    "    for j in range(0, i):\r\n",
    "        print('* ', end='')\r\n",
    "    #New line\r\n",
    "    print(' ')\r\n",
    "#For Second set of patterns - decrement\r\n",
    "for k in range(n, 0, -1):\r\n",
    "    for j in range(0, k):\r\n",
    "        print('* ', end='')\r\n",
    "    #New line\r\n",
    "    print(' ')\r\n"
   ],
   "outputs": [
    {
     "output_type": "stream",
     "name": "stdout",
     "text": [
      " \n",
      "*  \n",
      "* *  \n",
      "* * *  \n",
      "* * * *  \n",
      "* * * * *  \n",
      "* * * *  \n",
      "* * *  \n",
      "* *  \n",
      "*  \n"
     ]
    }
   ],
   "metadata": {}
  },
  {
   "cell_type": "code",
   "execution_count": 7,
   "source": [
    "#Solution - 2\r\n",
    "n = 5\r\n",
    "#For first set of patterns - Increment\r\n",
    "for i in range(n):\r\n",
    "    for j in range(i+1):\r\n",
    "        print('* ', end='')\r\n",
    "    print('')\r\n",
    "#For Second set of patterns - decrement\r\n",
    "for i in range(n):\r\n",
    "    for k in range(n-i):\r\n",
    "        print('* ', end='')\r\n",
    "    print('')"
   ],
   "outputs": [
    {
     "output_type": "stream",
     "name": "stdout",
     "text": [
      "* \n",
      "* * \n",
      "* * * \n",
      "* * * * \n",
      "* * * * * \n",
      "* * * * * \n",
      "* * * * \n",
      "* * * \n",
      "* * \n",
      "* \n"
     ]
    }
   ],
   "metadata": {}
  },
  {
   "cell_type": "code",
   "execution_count": null,
   "source": [
    "#Q-2 Write a Python program to reverse a word after accepting the input from the user.\r\n",
    "word = input('Please enter a string to reverse: ')\r\n",
    "reversed_word = word[len(word)::-1]\r\n",
    "reversed_word"
   ],
   "outputs": [],
   "metadata": {}
  },
  {
   "cell_type": "code",
   "execution_count": null,
   "source": [],
   "outputs": [],
   "metadata": {}
  }
 ],
 "metadata": {
  "orig_nbformat": 4,
  "language_info": {
   "name": "python",
   "version": "3.8.5",
   "mimetype": "text/x-python",
   "codemirror_mode": {
    "name": "ipython",
    "version": 3
   },
   "pygments_lexer": "ipython3",
   "nbconvert_exporter": "python",
   "file_extension": ".py"
  },
  "kernelspec": {
   "name": "python3",
   "display_name": "Python 3.8.5 64-bit ('base': conda)"
  },
  "interpreter": {
   "hash": "5a83d6e59df17be05f5db6921ac24882d403a8df2ce70299fe428afae01fc807"
  }
 },
 "nbformat": 4,
 "nbformat_minor": 2
}