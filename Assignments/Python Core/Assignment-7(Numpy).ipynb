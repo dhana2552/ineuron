{
 "cells": [
  {
   "cell_type": "code",
   "execution_count": 6,
   "source": [
    "#Write a function so that the columns of the output matrix are powers of the input vector.\r\n",
    "import numpy as np\r\n",
    "input_vector = np.array([1, 2, 3, 5])\r\n",
    "N=4\r\n",
    "#The order of the powers is determined by the increasing boolean argument. \r\n",
    "# Specifically,when increasing is False, the i-th output column is the input vector raised element-wise to the power of N - i - 1.\r\n",
    "matrix = np.column_stack([input_vector**(N-i-1) for i in range(N)]) \r\n",
    "print(matrix) \r\n",
    "\r\n",
    "#with np.vander\r\n",
    "matrix1 = np.vander(input_vector,N) \r\n",
    "print(matrix1) \r\n"
   ],
   "outputs": [
    {
     "output_type": "stream",
     "name": "stdout",
     "text": [
      "[[  1   1   1   1]\n",
      " [  8   4   2   1]\n",
      " [ 27   9   3   1]\n",
      " [125  25   5   1]]\n",
      "[[  1   1   1   1]\n",
      " [  8   4   2   1]\n",
      " [ 27   9   3   1]\n",
      " [125  25   5   1]]\n"
     ]
    }
   ],
   "metadata": {}
  },
  {
   "cell_type": "code",
   "execution_count": 14,
   "source": [
    "#Given a sequence of n values x1, x2, ..., xn and a window size k>0, the k-th moving average of\r\n",
    "# the given sequence is defined as follows:\r\n",
    "# The moving average sequence has n-k+1 elements as shown below.\r\n",
    "# The moving averages with k=4 of a ten-value sequence (n=10) is shown below\r\n",
    "#i 1 2 3 4 5 6 7 8 9 10\r\n",
    "# ===== == == == == == == == == == ==\r\n",
    "# Input 10 20 30 40 50 60 70 80 90 100\r\n",
    "# y1 25 = (10+20+30+40)/4\r\n",
    "# y2 35 = (20+30+40+50)/4\r\n",
    "# y3 45 = (30+40+50+60)/4\r\n",
    "# y4 55 = (40+50+60+70)/4\r\n",
    "# y5 65 = (50+60+70+80)/4\r\n",
    "# y6 75 = (60+70+80+90)/4\r\n",
    "# y7 85 = (70+80+90+100)/4\r\n",
    "#Thus, the moving average sequence has n-k+1=10-4+1=7 values.\r\n",
    "#Question: Write a function to find moving average in an array over a window:\r\n",
    "#Test it over [3, 5, 7, 2, 8, 10, 11, 65, 72, 81, 99, 100, 150] and window of 3.\r\n",
    "import numpy as np\r\n",
    "def moving_average(x, k) :\r\n",
    "    result = np.cumsum(x, dtype=float)\r\n",
    "    result[k:] = result[k:] - result[:-k]\r\n",
    "    return result[k - 1:] / k\r\n",
    "#x = [1, 2, 3, 4, 5]\r\n",
    "x = [3, 5, 7, 2, 8, 10, 11, 65, 72, 81, 99, 100, 150]\r\n",
    "print(moving_average(x, k=3))"
   ],
   "outputs": [
    {
     "output_type": "stream",
     "name": "stdout",
     "text": [
      "[  5.           4.66666667   5.66666667   6.66666667   9.66666667\n",
      "  28.66666667  49.33333333  72.66666667  84.          93.33333333\n",
      " 116.33333333]\n"
     ]
    }
   ],
   "metadata": {}
  },
  {
   "cell_type": "code",
   "execution_count": null,
   "source": [],
   "outputs": [],
   "metadata": {}
  }
 ],
 "metadata": {
  "orig_nbformat": 4,
  "language_info": {
   "name": "python",
   "version": "3.8.5",
   "mimetype": "text/x-python",
   "codemirror_mode": {
    "name": "ipython",
    "version": 3
   },
   "pygments_lexer": "ipython3",
   "nbconvert_exporter": "python",
   "file_extension": ".py"
  },
  "kernelspec": {
   "name": "python3",
   "display_name": "Python 3.8.5 64-bit ('base': conda)"
  },
  "interpreter": {
   "hash": "5a83d6e59df17be05f5db6921ac24882d403a8df2ce70299fe428afae01fc807"
  }
 },
 "nbformat": 4,
 "nbformat_minor": 2
}