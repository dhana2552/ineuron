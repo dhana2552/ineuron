{
 "cells": [
  {
   "cell_type": "code",
   "execution_count": 24,
   "source": [
    "# 1.1 Write a Python Program(with class concepts) to find the area of the triangle using the below formula.\r\n",
    "# area = (s*(s-a)*(s-b)*(s-c)) ** 0.5\r\n",
    "# Function to take the length of the sides of triangle from user should be defined in the parent class and function to calculate the area should be defined in subclass.\r\n",
    "class Area:\r\n",
    "    def __init__(self, s, a, b, c):\r\n",
    "        self.s = s\r\n",
    "        self.a = a\r\n",
    "        self.b = b\r\n",
    "        self.c = c\r\n",
    "\r\n",
    "class Triangle(Area):\r\n",
    "    def area_calculation(self):\r\n",
    "        return ((self.s*(self.s-self.a)*(self.s-self.b)*(self.s-self.c)) ** 0.5)\r\n",
    "a1 = Triangle(2, 1, 1, 1)\r\n",
    "a1.area_calculation()"
   ],
   "outputs": [
    {
     "output_type": "execute_result",
     "data": {
      "text/plain": [
       "1.4142135623730951"
      ]
     },
     "metadata": {},
     "execution_count": 24
    }
   ],
   "metadata": {}
  },
  {
   "cell_type": "code",
   "execution_count": 2,
   "source": [
    "# 1.2 Write a function filter_long_words() that takes a list of words and an integer n and returns\r\n",
    "# the list of words that are longer than n.\r\n",
    "def filter_long_words(list1, n):\r\n",
    "    new_list = []\r\n",
    "    for word in list1:\r\n",
    "        if len(word)> n:\r\n",
    "            new_list.append(word)\r\n",
    "            return new_list\r\n",
    "\r\n",
    "test1 = filter_long_words([\"alkngjdgs\",'sjkfdjhf','sjkbrjit'],8)\r\n",
    "test1"
   ],
   "outputs": [
    {
     "output_type": "execute_result",
     "data": {
      "text/plain": [
       "['alkngjdgs']"
      ]
     },
     "metadata": {},
     "execution_count": 2
    }
   ],
   "metadata": {}
  },
  {
   "cell_type": "code",
   "execution_count": 9,
   "source": [
    "# 2.1 Write a Python program using function concept that maps list of words into a list of integers\r\n",
    "# representing the lengths of the corresponding words.\r\n",
    "# Hint: If a list [ ab,cde,erty] is passed on to the python function output should come as [2,3,4]\r\n",
    "# Here 2,3 and 4 are the lengths of the words in the list.\r\n",
    "def get_words_length(list2):\r\n",
    "    new_list = []\r\n",
    "    for word in list2:\r\n",
    "        new_list.append(len(word))\r\n",
    "    return new_list\r\n",
    "l1 = ['ajkfdsj','jksagdjk','skjdfjkahKG','sfad sdfs']\r\n",
    "test2 = get_words_length(l1)\r\n",
    "test2"
   ],
   "outputs": [
    {
     "output_type": "execute_result",
     "data": {
      "text/plain": [
       "[7, 8, 11, 9]"
      ]
     },
     "metadata": {},
     "execution_count": 9
    }
   ],
   "metadata": {}
  },
  {
   "cell_type": "code",
   "execution_count": 10,
   "source": [
    "# 2.2 Write a Python function which takes a character (i.e. a string of length 1) and returns True if\r\n",
    "# it is a vowel, False otherwise.\r\n",
    "def is_vowel(string1):\r\n",
    "    vowels = ['a', 'e', 'i', 'o', 'u']\r\n",
    "    if string1.lower() in vowels:\r\n",
    "        return True\r\n",
    "    else:\r\n",
    "        return False\r\n",
    "is_vowel('d')"
   ],
   "outputs": [
    {
     "output_type": "execute_result",
     "data": {
      "text/plain": [
       "False"
      ]
     },
     "metadata": {},
     "execution_count": 10
    }
   ],
   "metadata": {}
  },
  {
   "cell_type": "code",
   "execution_count": null,
   "source": [],
   "outputs": [],
   "metadata": {}
  }
 ],
 "metadata": {
  "orig_nbformat": 4,
  "language_info": {
   "name": "python",
   "version": "3.8.5",
   "mimetype": "text/x-python",
   "codemirror_mode": {
    "name": "ipython",
    "version": 3
   },
   "pygments_lexer": "ipython3",
   "nbconvert_exporter": "python",
   "file_extension": ".py"
  },
  "kernelspec": {
   "name": "python3",
   "display_name": "Python 3.8.5 64-bit ('base': conda)"
  },
  "interpreter": {
   "hash": "5a83d6e59df17be05f5db6921ac24882d403a8df2ce70299fe428afae01fc807"
  }
 },
 "nbformat": 4,
 "nbformat_minor": 2
}