{
 "cells": [
  {
   "cell_type": "code",
   "execution_count": 1,
   "source": [
    "from functools import reduce\r\n",
    "my_list = [1, 2, 1, 1, 1]\r\n",
    "my_tuple = (9, 0, 7, 8)\r\n",
    "print(reduce(lambda x,y: x+y, my_tuple))\r\n",
    "print(reduce(lambda x,y: x*y, my_list, 1))"
   ],
   "outputs": [
    {
     "output_type": "stream",
     "name": "stdout",
     "text": [
      "24\n",
      "2\n"
     ]
    }
   ],
   "metadata": {}
  },
  {
   "cell_type": "code",
   "execution_count": 2,
   "source": [
    "#Q-1.1 Write a Python Program to implement your own myreduce() function which works exactly like Python's built-in function reduce()\r\n",
    "def my_reduce(my_function, my_iterable, initializer=None):\r\n",
    "    '''This function is to reduce an iterator of integer into a single number \r\n",
    "    based on the operator passed on the my_function argument\r\n",
    "    Arguments: my_function, my_iterable, initializer\r\n",
    "    Return Type: An integer calculated from my_function on my_iterable and initializer'''\r\n",
    "    iterate = iter(my_iterable)\r\n",
    "    if initializer is None:\r\n",
    "        value = next(iter(my_iterable))\r\n",
    "    else:\r\n",
    "        value = initializer\r\n",
    "    for element in iterate:\r\n",
    "        value = my_function(value, element)\r\n",
    "    return value\r\n",
    "print(my_reduce(lambda x,y: x+y, my_tuple))\r\n",
    "print(my_reduce(lambda x,y: x*y, my_list, 1))"
   ],
   "outputs": [
    {
     "output_type": "stream",
     "name": "stdout",
     "text": [
      "33\n",
      "2\n"
     ]
    }
   ],
   "metadata": {}
  },
  {
   "cell_type": "code",
   "execution_count": 3,
   "source": [
    "#Checking my_reduce() functionality with some simple user defined functions\r\n",
    "def my_add(x,y):\r\n",
    "    return x+y\r\n",
    "def my_multiply(x,y):\r\n",
    "    return x*y\r\n",
    "print(my_reduce(my_add, my_tuple))\r\n",
    "print(my_reduce(my_multiply, my_list, 1))"
   ],
   "outputs": [
    {
     "output_type": "stream",
     "name": "stdout",
     "text": [
      "33\n",
      "2\n"
     ]
    }
   ],
   "metadata": {}
  },
  {
   "cell_type": "code",
   "execution_count": 4,
   "source": [
    "#Q-1.2 Write a Python program to implement your own myfilter() function which works exactly like Python's built-in function filter()\r\n",
    "\r\n",
    "def my_filter(func,sequence):\r\n",
    "    res=[]\r\n",
    "    for variable in sequence :\r\n",
    "        if func !=None:\r\n",
    "            if func(variable):\r\n",
    "                res.append(variable)\r\n",
    "        else:\r\n",
    "            res = sequence\r\n",
    "    return res\r\n",
    "\r\n",
    "#User-defined functions (to check my_filter)\r\n",
    "list2 = [3,2,5,6]\r\n",
    "def is_even(item):\r\n",
    "    if item%2==0 :\r\n",
    "        return True\r\n",
    "    else :\r\n",
    "        return False\r\n",
    "\r\n",
    "string1 = \"madam\"\r\n",
    "list1 = (\"madam\", \"test\")\r\n",
    "def is_palindrome(string):\r\n",
    "    if string == string[::-1]:\r\n",
    "        return True\r\n",
    "    else:\r\n",
    "        return False"
   ],
   "outputs": [],
   "metadata": {}
  },
  {
   "cell_type": "code",
   "execution_count": 5,
   "source": [
    "#Filtering even numbers\r\n",
    "test1 = my_filter(is_even, list2)\r\n",
    "print(test1)\r\n",
    "\r\n",
    "#Filtering palindromes\r\n",
    "test2 = my_filter(is_palindrome, list1)\r\n",
    "print(test2)\r\n",
    "\r\n",
    "#Filtering odd numbers\r\n",
    "test3 = my_filter(lambda x: x%2, list2)\r\n",
    "print(test3)\r\n",
    "\r\n",
    "#Without any function - expected to return the list (same as original filter function)\r\n",
    "test4 = my_filter(None, list1)\r\n",
    "print(test4)"
   ],
   "outputs": [
    {
     "output_type": "stream",
     "name": "stdout",
     "text": [
      "[2, 6]\n",
      "['madam']\n",
      "[3, 5]\n",
      "('madam', 'test')\n"
     ]
    }
   ],
   "metadata": {}
  },
  {
   "cell_type": "code",
   "execution_count": 6,
   "source": [
    "#Q-2. Implement List comprehensions to produce the following lists.\r\n",
    "#['x', 'xx', 'xxx', 'xxxx', 'y', 'yy', 'yyy', 'yyyy', 'z', 'zz', 'zzz', 'zzzz']\r\n",
    "def list_sequence1(n, seq1):\r\n",
    "    return [seq1*i for i in range(1,n)]\r\n",
    "list_sequence1(5, 'x')+list_sequence1(5, 'y')+list_sequence1(5, 'z')"
   ],
   "outputs": [
    {
     "output_type": "execute_result",
     "data": {
      "text/plain": [
       "['x', 'xx', 'xxx', 'xxxx', 'y', 'yy', 'yyy', 'yyyy', 'z', 'zz', 'zzz', 'zzzz']"
      ]
     },
     "metadata": {},
     "execution_count": 6
    }
   ],
   "metadata": {}
  },
  {
   "cell_type": "code",
   "execution_count": 7,
   "source": [
    "#['x', 'y', 'z', 'xx', 'yy', 'zz', 'xxx', 'yyy', 'zzz', 'xxxx', 'yyyy', 'zzzz']\r\n",
    "def list_sequence2(n, seq2):\r\n",
    "    return [char*i for i in range(1,n) for char in seq2]\r\n",
    "list_sequence2(5, ['x', 'y', 'z'])"
   ],
   "outputs": [
    {
     "output_type": "execute_result",
     "data": {
      "text/plain": [
       "['x', 'y', 'z', 'xx', 'yy', 'zz', 'xxx', 'yyy', 'zzz', 'xxxx', 'yyyy', 'zzzz']"
      ]
     },
     "metadata": {},
     "execution_count": 7
    }
   ],
   "metadata": {}
  },
  {
   "cell_type": "code",
   "execution_count": 8,
   "source": [
    "#[[2], [3], [4], [3], [4], [5], [4], [5], [6]] \r\n",
    "def list_sequence3(n, seq3):\r\n",
    "    return [[num1+num2] for num1 in range(0,n) for num2 in seq3]\r\n",
    "list_sequence3(3,[2,3,4])"
   ],
   "outputs": [
    {
     "output_type": "execute_result",
     "data": {
      "text/plain": [
       "[[2], [3], [4], [3], [4], [5], [4], [5], [6]]"
      ]
     },
     "metadata": {},
     "execution_count": 8
    }
   ],
   "metadata": {}
  },
  {
   "cell_type": "code",
   "execution_count": 13,
   "source": [
    "#[[2, 3, 4, 5], [3, 4, 5, 6], [4, 5, 6, 7], [5, 6, 7, 8]]\r\n",
    "def list_sequence4(n, seq4):\r\n",
    "    return [[num1+num2 for num1 in range(0,n)] for num2 in seq4]\r\n",
    "list_sequence4(4,[2,3,4,5])"
   ],
   "outputs": [
    {
     "output_type": "execute_result",
     "data": {
      "text/plain": [
       "[[2, 3, 4, 5], [3, 4, 5, 6], [4, 5, 6, 7], [5, 6, 7, 8]]"
      ]
     },
     "metadata": {},
     "execution_count": 13
    }
   ],
   "metadata": {}
  },
  {
   "cell_type": "code",
   "execution_count": 10,
   "source": [
    "#[(1, 1), (2, 1), (3, 1), (1, 2), (2, 2), (3, 2), (1, 3), (2, 3), (3, 3)]\r\n",
    "def tuple_in_list(n):\r\n",
    "    result = []\r\n",
    "    for i in range(1,n+1):\r\n",
    "        result = result + [tuple(j) for j in list(enumerate((i,i,i), start=1))]\r\n",
    "    return result\r\n",
    "tuple_in_list(3)"
   ],
   "outputs": [
    {
     "output_type": "execute_result",
     "data": {
      "text/plain": [
       "[(1, 1), (2, 1), (3, 1), (1, 2), (2, 2), (3, 2), (1, 3), (2, 3), (3, 3)]"
      ]
     },
     "metadata": {},
     "execution_count": 10
    }
   ],
   "metadata": {}
  },
  {
   "cell_type": "code",
   "execution_count": null,
   "source": [],
   "outputs": [],
   "metadata": {}
  }
 ],
 "metadata": {
  "orig_nbformat": 4,
  "language_info": {
   "name": "python",
   "version": "3.8.5",
   "mimetype": "text/x-python",
   "codemirror_mode": {
    "name": "ipython",
    "version": 3
   },
   "pygments_lexer": "ipython3",
   "nbconvert_exporter": "python",
   "file_extension": ".py"
  },
  "kernelspec": {
   "name": "python3",
   "display_name": "Python 3.8.5 64-bit ('base': conda)"
  },
  "interpreter": {
   "hash": "5a83d6e59df17be05f5db6921ac24882d403a8df2ce70299fe428afae01fc807"
  }
 },
 "nbformat": 4,
 "nbformat_minor": 2
}