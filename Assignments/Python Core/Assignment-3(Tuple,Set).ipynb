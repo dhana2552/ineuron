{
 "cells": [
  {
   "cell_type": "code",
   "execution_count": 81,
   "source": [
    "from functools import reduce\r\n",
    "my_list = [1, 2, 1, 1, 1]\r\n",
    "my_tuple = (9, 0, 7, 8)\r\n",
    "print(reduce(lambda x,y: x+y, my_tuple))\r\n",
    "print(reduce(lambda x,y: x*y, my_list, 1))"
   ],
   "outputs": [
    {
     "output_type": "stream",
     "name": "stdout",
     "text": [
      "24\n",
      "2\n"
     ]
    }
   ],
   "metadata": {}
  },
  {
   "cell_type": "code",
   "execution_count": 71,
   "source": [
    "#Q-1.1 Write a Python Program to implement your own myreduce() function which works exactly like Python's built-in function reduce()\r\n",
    "def my_reduce(my_function, my_iterable, initializer=None):\r\n",
    "    '''This function is to reduce an iterator of integer into a single number \r\n",
    "    based on the operator passed on the my_function argument\r\n",
    "    Arguments: my_function, my_iterable, initializer\r\n",
    "    Return Type: An integer calculated from my_function on my_iterable and initializer'''\r\n",
    "    iterate = iter(my_iterable)\r\n",
    "    if initializer is None:\r\n",
    "        value = next(iter(my_iterable))\r\n",
    "    else:\r\n",
    "        value = initializer\r\n",
    "    for element in iterate:\r\n",
    "        value = my_function(value, element)\r\n",
    "    return value\r\n",
    "print(my_reduce(lambda x,y: x+y, my_tuple))\r\n",
    "print(my_reduce(lambda x,y: x*y, my_list, 1))"
   ],
   "outputs": [
    {
     "output_type": "stream",
     "name": "stdout",
     "text": [
      "33\n",
      "2\n"
     ]
    }
   ],
   "metadata": {}
  },
  {
   "cell_type": "code",
   "execution_count": 72,
   "source": [
    "#Checking my_reduce() functionality with some simple user defined functions\r\n",
    "def my_add(x,y):\r\n",
    "    return x+y\r\n",
    "def my_multiply(x,y):\r\n",
    "    return x*y\r\n",
    "print(my_reduce(my_add, my_tuple))\r\n",
    "print(my_reduce(my_multiply, my_list, 1))"
   ],
   "outputs": [
    {
     "output_type": "stream",
     "name": "stdout",
     "text": [
      "33\n",
      "2\n"
     ]
    }
   ],
   "metadata": {}
  },
  {
   "cell_type": "code",
   "execution_count": 79,
   "source": [
    "test = filter(lambda x:x%2==0, my_list)\r\n",
    "for i in test:\r\n",
    "    print(i)"
   ],
   "outputs": [
    {
     "output_type": "stream",
     "name": "stdout",
     "text": [
      "2\n"
     ]
    }
   ],
   "metadata": {}
  },
  {
   "cell_type": "code",
   "execution_count": 90,
   "source": [
    "#Q-1.2 Write a Python program to implement your own myfilter() function which works exactly like Python's built-in function filter()\r\n",
    "def myfilter(my_iter, my_function=None):\r\n",
    "    '''This function is to filter an integer from iterator of integers\r\n",
    "    Arguments: my_iter, my_fuction\r\n",
    "    Return Type: A list'''\r\n",
    "    if my_function is None:\r\n",
    "        return [number for number in my_iter]\r\n",
    "    else:\r\n",
    "        return [number for number in my_iter if my_function(number)]"
   ],
   "outputs": [],
   "metadata": {}
  },
  {
   "cell_type": "code",
   "execution_count": 97,
   "source": [
    "#Checking myfilter functionality\r\n",
    "myfilter(my_list, None)\r\n",
    "for i in myfilter(my_list, None):\r\n",
    "    print(i)"
   ],
   "outputs": [
    {
     "output_type": "stream",
     "name": "stdout",
     "text": [
      "1\n",
      "2\n",
      "1\n",
      "1\n",
      "1\n"
     ]
    }
   ],
   "metadata": {}
  },
  {
   "cell_type": "code",
   "execution_count": 98,
   "source": [
    "#with lambda\r\n",
    "test_lambda = myfilter(my_tuple, lambda x:x%2==0)\r\n",
    "for i in test_lambda:\r\n",
    "    print(i)"
   ],
   "outputs": [
    {
     "output_type": "stream",
     "name": "stdout",
     "text": [
      "0\n",
      "8\n"
     ]
    }
   ],
   "metadata": {}
  },
  {
   "cell_type": "code",
   "execution_count": 84,
   "source": [
    "filter(None, my_list)\r\n",
    "for i in filter(None, my_list):\r\n",
    "    print(i)"
   ],
   "outputs": [
    {
     "output_type": "stream",
     "name": "stdout",
     "text": [
      "1\n",
      "2\n",
      "1\n",
      "1\n",
      "1\n"
     ]
    }
   ],
   "metadata": {}
  },
  {
   "cell_type": "code",
   "execution_count": 109,
   "source": [
    "#Q-2. Implement List comprehensions to produce the following lists.\r\n",
    "#['x', 'xx', 'xxx', 'xxxx', 'y', 'yy', 'yyy', 'yyyy', 'z', 'zz', 'zzz', 'zzzz']\r\n",
    "def list_sequence1(n, char):\r\n",
    "    return [char*i for i in range(1,n)]\r\n",
    "list_sequence1(5, 'x')+list_sequence1(5, 'y')+list_sequence1(5, 'z')"
   ],
   "outputs": [
    {
     "output_type": "execute_result",
     "data": {
      "text/plain": [
       "['x', 'xx', 'xxx', 'xxxx', 'y', 'yy', 'yyy', 'yyyy', 'z', 'zz', 'zzz', 'zzzz']"
      ]
     },
     "metadata": {},
     "execution_count": 109
    }
   ],
   "metadata": {}
  },
  {
   "cell_type": "code",
   "execution_count": 113,
   "source": [
    "#['x', 'y', 'z', 'xx', 'yy', 'zz', 'xxx', 'yyy', 'zzz', 'xxxx', 'yyyy', 'zzzz']\r\n",
    "def list_sequence2(n, chars):\r\n",
    "    return [char*i for i in range(1,n) for char in chars]\r\n",
    "list_sequence2(5, ['x', 'y', 'z'])"
   ],
   "outputs": [
    {
     "output_type": "execute_result",
     "data": {
      "text/plain": [
       "['x', 'y', 'z', 'xx', 'yy', 'zz', 'xxx', 'yyy', 'zzz', 'xxxx', 'yyyy', 'zzzz']"
      ]
     },
     "metadata": {},
     "execution_count": 113
    }
   ],
   "metadata": {}
  },
  {
   "cell_type": "code",
   "execution_count": null,
   "source": [
    "#[[2], [3], [4], [3], [4], [5], [4], [5], [6]] \r\n",
    "#[[2, 3, 4, 5], [3, 4, 5, 6], [4, 5, 6, 7], [5, 6, 7, 8]]\r\n"
   ],
   "outputs": [],
   "metadata": {}
  },
  {
   "cell_type": "code",
   "execution_count": 191,
   "source": [
    "#[(1, 1), (2, 1), (3, 1), (1, 2), (2, 2), (3, 2), (1, 3), (2, 3), (3, 3)]\r\n",
    "def tuple_in_list(n):\r\n",
    "    result = []\r\n",
    "    for i in range(1,n+1):\r\n",
    "        result = result + [tuple(j) for j in list(enumerate((i,i,i), start=1))]\r\n",
    "    return result\r\n",
    "tuple_in_list(3)"
   ],
   "outputs": [
    {
     "output_type": "execute_result",
     "data": {
      "text/plain": [
       "[(1, 1), (2, 1), (3, 1), (1, 2), (2, 2), (3, 2), (1, 3), (2, 3), (3, 3)]"
      ]
     },
     "metadata": {},
     "execution_count": 191
    }
   ],
   "metadata": {}
  },
  {
   "cell_type": "code",
   "execution_count": null,
   "source": [],
   "outputs": [],
   "metadata": {}
  }
 ],
 "metadata": {
  "orig_nbformat": 4,
  "language_info": {
   "name": "python",
   "version": "3.8.5",
   "mimetype": "text/x-python",
   "codemirror_mode": {
    "name": "ipython",
    "version": 3
   },
   "pygments_lexer": "ipython3",
   "nbconvert_exporter": "python",
   "file_extension": ".py"
  },
  "kernelspec": {
   "name": "python3",
   "display_name": "Python 3.8.5 64-bit ('base': conda)"
  },
  "interpreter": {
   "hash": "5a83d6e59df17be05f5db6921ac24882d403a8df2ce70299fe428afae01fc807"
  }
 },
 "nbformat": 4,
 "nbformat_minor": 2
}